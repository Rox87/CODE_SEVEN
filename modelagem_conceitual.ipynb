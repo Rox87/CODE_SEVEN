{
 "cells": [
  {
   "cell_type": "markdown",
   "metadata": {},
   "source": [
    "### Modelagem do Data Warehouse (ESTRELA)"
   ]
  },
  {
   "cell_type": "code",
   "execution_count": 1,
   "metadata": {},
   "outputs": [
    {
     "data": {
      "text/html": [
       "<img src=\"http://www.plantuml.com/plantuml/img/bLJ1Rjim3BtdAtHiCNXRW-qI545tw0uRK0phxW9hCGanInGaUMimx6DstM_qnqRPSMm7Te81XcMHZuyK_QYxc22asbOBT8dINXcokeur1EAeVYsKUbL739gCMYbo2RSOrEtjby_hjVYAGbuEB8epfa1kAtiX2djj86LhNewsH0qoBsAhVNQU0WiBL0tfIh_fjxyNmpfzO5EdhivcLwR_ATK7AflaM9A5IYmnSVczZy_v0qffHaFggpGOoq0-4RkvsX9QpsrXpUUvieGL1kG4qXGTqOA38xtAM7N_B5mLhzGZRcjdeDWW1SXzs-aDEQYqmJxoYRb2S4tajr2ZYlAy_7a2mufhPTWACH-YCL2sJqHv2A0E_YWzBENOGF5DnQKikQriKLkCWs8bza6iaaFPbxzHNTq_lrwfJ-2aNhwM6C59H0euw4gRiRDVtIXGxp9M3ZG5VSGUASTPPYWuFa5z44kRVVbs-Vvwy9isa5XxD6IE4cesCxzgSX0-Ygz9ynMhjZ5Ms5cLR4UZT4QWboWwbSzAwH914zHfRKhE98Wu4dtY1DLeC3piCwkM-oBLSJH41u_5j6CpvHcFUDoHzmAOe3fnDO4QVWAbR3pGpJArS1zG19j5U1uNBrCPhEW71ZGTJhGpkX-BOZrMqKhTh1uMexlf3AQz8sO0T-YCtCl_00==\"/>"
      ],
      "text/plain": [
       "<IPython.core.display.Image object>"
      ]
     },
     "execution_count": 1,
     "metadata": {},
     "output_type": "execute_result"
    }
   ],
   "source": [
    "from util import plantuml\n",
    "plantuml.generate_diagram(\"util/modelagem.puml\")"
   ]
  }
 ],
 "metadata": {
  "kernelspec": {
   "display_name": "Python 3",
   "language": "python",
   "name": "python3"
  },
  "language_info": {
   "codemirror_mode": {
    "name": "ipython",
    "version": 3
   },
   "file_extension": ".py",
   "mimetype": "text/x-python",
   "name": "python",
   "nbconvert_exporter": "python",
   "pygments_lexer": "ipython3",
   "version": "3.10.11"
  }
 },
 "nbformat": 4,
 "nbformat_minor": 2
}
