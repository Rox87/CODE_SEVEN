{
 "cells": [
  {
   "cell_type": "markdown",
   "id": "b4ef910b",
   "metadata": {},
   "source": [
    "### CONFIGURATION ###"
   ]
  },
  {
   "cell_type": "code",
   "execution_count": 11,
   "id": "788d1aba",
   "metadata": {},
   "outputs": [
    {
     "name": "stdout",
     "output_type": "stream",
     "text": [
      "account_name: codegroup\n",
      "account_key: ***\n",
      "file_system_name: seven\n",
      "local_file_path: data/desafio/raw\n",
      "dest_file_path: desafio/raw\n"
     ]
    }
   ],
   "source": [
    "from dotenv import load_dotenv\n",
    "import os\n",
    "\n",
    "# Carregar o arquivo .env\n",
    "load_dotenv()\n",
    "\n",
    "# Configurações\n",
    "account_name = os.getenv(\"account_name\")\n",
    "account_key = os.getenv(\"account_key\")\n",
    "file_system_name = os.getenv(\"file_system_name\")\n",
    "local_file_path = os.getenv(\"local_file_path\")\n",
    "dest_file_path = os.getenv(\"dest_file_path\")\n",
    "\n",
    "# Imprimir os valores\n",
    "print(f\"account_name: {account_name}\")\n",
    "print(f\"account_key: {'***' if account_key else None}\")\n",
    "print(f\"file_system_name: {file_system_name}\")\n",
    "print(f\"local_file_path: {local_file_path}\")\n",
    "print(f\"dest_file_path: {dest_file_path}\")"
   ]
  },
  {
   "cell_type": "code",
   "execution_count": 12,
   "id": "ce8db9ea",
   "metadata": {},
   "outputs": [],
   "source": [
    "from azure.storage.filedatalake import DataLakeServiceClient\n",
    "\n",
    "# Configurar a conexão com o Data Lake\n",
    "def initialize_storage_account(account_name, account_key):\n",
    "    service_client = DataLakeServiceClient(\n",
    "        account_url=f\"https://{account_name}.dfs.core.windows.net\",\n",
    "        credential=account_key\n",
    "    )\n",
    "    return service_client\n",
    "\n",
    "# Inicializar e enviar\n",
    "service_client = initialize_storage_account(account_name, account_key)\n",
    "\n",
    "# List all files and directories in the folder\n",
    "files = os.listdir(local_file_path)\n",
    "\n",
    "# Filter out only files (optional)\n",
    "only_files = [f for f in files if os.path.isfile(os.path.join(local_file_path, f))]"
   ]
  },
  {
   "cell_type": "markdown",
   "id": "9a9b25b9",
   "metadata": {},
   "source": [
    "### UPLOAD TO DATA LAKE - EXTRA"
   ]
  },
  {
   "cell_type": "code",
   "execution_count": 13,
   "id": "ca6e371d",
   "metadata": {},
   "outputs": [
    {
     "name": "stdout",
     "output_type": "stream",
     "text": [
      "All files in the folder: ['pedidos_raw.csv', 'produtos_raw.csv', 'user_raw.csv']\n",
      "Arquivo 'data/desafio/raw/pedidos_raw.csv' enviado para 'desafio/raw/pedidos_raw.csv' no Data Lake.\n",
      "pedidos_raw.csv enviado com sucesso!\n",
      "-----------------------------------------------------\n",
      "Arquivo 'data/desafio/raw/produtos_raw.csv' enviado para 'desafio/raw/produtos_raw.csv' no Data Lake.\n",
      "produtos_raw.csv enviado com sucesso!\n",
      "-----------------------------------------------------\n",
      "Arquivo 'data/desafio/raw/user_raw.csv' enviado para 'desafio/raw/user_raw.csv' no Data Lake.\n",
      "user_raw.csv enviado com sucesso!\n",
      "-----------------------------------------------------\n"
     ]
    }
   ],
   "source": [
    "# Fazer o upload do arquivo\n",
    "def upload_to_datalake(service_client, file_system_name, local_file_path, dest_file_path):\n",
    "    # Obter referência ao sistema de arquivos\n",
    "    file_system_client = service_client.get_file_system_client(file_system=file_system_name)\n",
    "    file_client = file_system_client.get_file_client(dest_file_path)\n",
    "\n",
    "    # Ler o arquivo local e enviá-lo ao Data Lake\n",
    "    with open(local_file_path, \"rb\") as file:\n",
    "        file_contents = file.read()\n",
    "        file_client.upload_data(file_contents, overwrite=True)\n",
    "\n",
    "    print(f\"Arquivo '{local_file_path}' enviado para '{dest_file_path}' no Data Lake.\")\n",
    "\n",
    "\n",
    "print(\"All files in the folder:\", only_files)\n",
    "\n",
    "for file_name in only_files:\n",
    "    upload_to_datalake(service_client, file_system_name,f\"{local_file_path}/{file_name}\", f\"{dest_file_path}/{file_name}\")\n",
    "    print(\"\" + file_name + \" enviado com sucesso!\")\n",
    "    print(\"-----------------------------------------------------\")"
   ]
  },
  {
   "cell_type": "markdown",
   "id": "d49d5594",
   "metadata": {},
   "source": [
    "### INGESTÃO DE DADOS"
   ]
  },
  {
   "cell_type": "code",
   "execution_count": null,
   "id": "35aa6753",
   "metadata": {},
   "outputs": [
    {
     "name": "stdout",
     "output_type": "stream",
     "text": [
      "pedidos_raw.csv em processamento...\n",
      "pedidos_raw.csv em memória\n",
      "user_id,created_at,items,total,payment_status,payment_method,payment_date,shipping_status,shipping_status_date_awaitin\n",
      "g_payment,shipping_status_date_preparing,shipping_status_date_sent,shipping_status_date_deliver\n",
      "ed\n",
      "1,2018-01-01,1,100.90,paid,credit_card,2018-01-01,preparing,2018-01-01,2018-01-01,2018-01-01,2018-01-01\n",
      "-----------------------------------------------------\n",
      "produtos_raw.csv em processamento...\n",
      "produtos_raw.csv em memória\n",
      "product_id,name,price,stock,created_at,description\n",
      "1,camiseta,100.90,10,2018-01-01,camiseta branca\n",
      "-----------------------------------------------------\n",
      "user_raw.csv em processamento...\n",
      "user_raw.csv em memória\n",
      "user_id,name,entry_date,entry_time,update_date,e-mail,cpf\n",
      "1,joao,2018-01-01,10:00:00,2018-01-01,joao@gmail.com,365.767105-84\n",
      "-----------------------------------------------------\n"
     ]
    }
   ],
   "source": [
    "from azure.storage.filedatalake import DataLakeServiceClient\n",
    "import pandas as pd\n",
    "from io import StringIO\n",
    "\n",
    "# Ler dados do Data Lake\n",
    "def read_from_datalake(service_client, file_system_name, file_path):\n",
    "    # Obter referência ao sistema de arquivos\n",
    "    file_system_client = service_client.get_file_system_client(file_system=file_system_name)\n",
    "    \n",
    "    # Obter o cliente do arquivo\n",
    "    file_client = file_system_client.get_file_client(file_path)\n",
    "    \n",
    "    # Ler o conteúdo do arquivo\n",
    "    download = file_client.download_file()\n",
    "    file_contents = download.readall()\n",
    "    \n",
    "    # Retornar como string ou processar como necessário\n",
    "    return file_contents.decode('utf-8')\n",
    "\n",
    "# Inicializar e ler os dados\n",
    "service_client = initialize_storage_account(account_name, account_key)\n",
    "\n",
    "dict_files_contents = {}\n",
    "for file_name in only_files:\n",
    "    print(\"\" + file_name + \" em processamento...\")\n",
    "    dict_files_contents[file_name] = read_from_datalake(service_client, file_system_name, f\"{dest_file_path}/{file_name}\")\n",
    "    print(\"\" + file_name + \" em memória\")\n",
    "    print(dict_files_contents[file_name])\n",
    "    print(\"-----------------------------------------------------\")"
   ]
  },
  {
   "cell_type": "markdown",
   "id": "ee45a4f1",
   "metadata": {},
   "source": [
    "### "
   ]
  }
 ],
 "metadata": {
  "kernelspec": {
   "display_name": "Python 3",
   "language": "python",
   "name": "python3"
  },
  "language_info": {
   "codemirror_mode": {
    "name": "ipython",
    "version": 3
   },
   "file_extension": ".py",
   "mimetype": "text/x-python",
   "name": "python",
   "nbconvert_exporter": "python",
   "pygments_lexer": "ipython3",
   "version": "3.10.11"
  }
 },
 "nbformat": 4,
 "nbformat_minor": 5
}
